{
 "cells": [
  {
   "cell_type": "code",
   "execution_count": 1,
   "id": "d8cfb5bd",
   "metadata": {
    "execution": {
     "iopub.execute_input": "2022-01-20T16:44:36.683930Z",
     "iopub.status.busy": "2022-01-20T16:44:36.683189Z",
     "iopub.status.idle": "2022-01-20T16:44:36.688637Z",
     "shell.execute_reply": "2022-01-20T16:44:36.687943Z",
     "shell.execute_reply.started": "2022-01-20T16:41:35.692321Z"
    },
    "papermill": {
     "duration": 0.03196,
     "end_time": "2022-01-20T16:44:36.688823",
     "exception": false,
     "start_time": "2022-01-20T16:44:36.656863",
     "status": "completed"
    },
    "tags": []
   },
   "outputs": [],
   "source": [
    "import pandas as pd\n",
    "import numpy as np"
   ]
  },
  {
   "cell_type": "code",
   "execution_count": 2,
   "id": "d7a60071",
   "metadata": {
    "execution": {
     "iopub.execute_input": "2022-01-20T16:44:36.729015Z",
     "iopub.status.busy": "2022-01-20T16:44:36.728305Z",
     "iopub.status.idle": "2022-01-20T16:44:36.750184Z",
     "shell.execute_reply": "2022-01-20T16:44:36.749503Z",
     "shell.execute_reply.started": "2022-01-20T16:41:39.435676Z"
    },
    "papermill": {
     "duration": 0.043651,
     "end_time": "2022-01-20T16:44:36.750369",
     "exception": false,
     "start_time": "2022-01-20T16:44:36.706718",
     "status": "completed"
    },
    "tags": []
   },
   "outputs": [],
   "source": [
    "iris=pd.read_csv('../input/iris-data/iris.csv')"
   ]
  },
  {
   "cell_type": "code",
   "execution_count": 3,
   "id": "5a4e24d2",
   "metadata": {
    "execution": {
     "iopub.execute_input": "2022-01-20T16:44:36.789363Z",
     "iopub.status.busy": "2022-01-20T16:44:36.788478Z",
     "iopub.status.idle": "2022-01-20T16:44:36.811344Z",
     "shell.execute_reply": "2022-01-20T16:44:36.811860Z",
     "shell.execute_reply.started": "2022-01-20T16:41:41.452680Z"
    },
    "papermill": {
     "duration": 0.043443,
     "end_time": "2022-01-20T16:44:36.812050",
     "exception": false,
     "start_time": "2022-01-20T16:44:36.768607",
     "status": "completed"
    },
    "tags": []
   },
   "outputs": [
    {
     "data": {
      "text/html": [
       "<div>\n",
       "<style scoped>\n",
       "    .dataframe tbody tr th:only-of-type {\n",
       "        vertical-align: middle;\n",
       "    }\n",
       "\n",
       "    .dataframe tbody tr th {\n",
       "        vertical-align: top;\n",
       "    }\n",
       "\n",
       "    .dataframe thead th {\n",
       "        text-align: right;\n",
       "    }\n",
       "</style>\n",
       "<table border=\"1\" class=\"dataframe\">\n",
       "  <thead>\n",
       "    <tr style=\"text-align: right;\">\n",
       "      <th></th>\n",
       "      <th>sepal_len</th>\n",
       "      <th>sepal_wdt</th>\n",
       "      <th>petal_len</th>\n",
       "      <th>petal_wdt</th>\n",
       "      <th>iris</th>\n",
       "    </tr>\n",
       "  </thead>\n",
       "  <tbody>\n",
       "    <tr>\n",
       "      <th>0</th>\n",
       "      <td>5.1</td>\n",
       "      <td>3.5</td>\n",
       "      <td>1.4</td>\n",
       "      <td>0.2</td>\n",
       "      <td>Iris-setosa</td>\n",
       "    </tr>\n",
       "    <tr>\n",
       "      <th>1</th>\n",
       "      <td>4.9</td>\n",
       "      <td>3.0</td>\n",
       "      <td>1.4</td>\n",
       "      <td>0.2</td>\n",
       "      <td>Iris-setosa</td>\n",
       "    </tr>\n",
       "    <tr>\n",
       "      <th>2</th>\n",
       "      <td>4.7</td>\n",
       "      <td>3.2</td>\n",
       "      <td>1.3</td>\n",
       "      <td>0.2</td>\n",
       "      <td>Iris-setosa</td>\n",
       "    </tr>\n",
       "    <tr>\n",
       "      <th>3</th>\n",
       "      <td>4.6</td>\n",
       "      <td>3.1</td>\n",
       "      <td>1.5</td>\n",
       "      <td>0.2</td>\n",
       "      <td>Iris-setosa</td>\n",
       "    </tr>\n",
       "    <tr>\n",
       "      <th>4</th>\n",
       "      <td>5.0</td>\n",
       "      <td>3.6</td>\n",
       "      <td>1.4</td>\n",
       "      <td>0.2</td>\n",
       "      <td>Iris-setosa</td>\n",
       "    </tr>\n",
       "  </tbody>\n",
       "</table>\n",
       "</div>"
      ],
      "text/plain": [
       "   sepal_len  sepal_wdt  petal_len  petal_wdt         iris\n",
       "0        5.1        3.5        1.4        0.2  Iris-setosa\n",
       "1        4.9        3.0        1.4        0.2  Iris-setosa\n",
       "2        4.7        3.2        1.3        0.2  Iris-setosa\n",
       "3        4.6        3.1        1.5        0.2  Iris-setosa\n",
       "4        5.0        3.6        1.4        0.2  Iris-setosa"
      ]
     },
     "execution_count": 3,
     "metadata": {},
     "output_type": "execute_result"
    }
   ],
   "source": [
    "iris.head()"
   ]
  },
  {
   "cell_type": "code",
   "execution_count": 4,
   "id": "da7ad847",
   "metadata": {
    "execution": {
     "iopub.execute_input": "2022-01-20T16:44:36.850288Z",
     "iopub.status.busy": "2022-01-20T16:44:36.849567Z",
     "iopub.status.idle": "2022-01-20T16:44:36.862951Z",
     "shell.execute_reply": "2022-01-20T16:44:36.863498Z",
     "shell.execute_reply.started": "2022-01-20T16:41:44.621476Z"
    },
    "papermill": {
     "duration": 0.034011,
     "end_time": "2022-01-20T16:44:36.863685",
     "exception": false,
     "start_time": "2022-01-20T16:44:36.829674",
     "status": "completed"
    },
    "tags": []
   },
   "outputs": [
    {
     "data": {
      "text/plain": [
       "Iris-setosa        50\n",
       "Iris-versicolor    50\n",
       "Iris-virginica     50\n",
       "Name: iris, dtype: int64"
      ]
     },
     "execution_count": 4,
     "metadata": {},
     "output_type": "execute_result"
    }
   ],
   "source": [
    "iris.iris.value_counts()"
   ]
  },
  {
   "cell_type": "code",
   "execution_count": 5,
   "id": "93f72c84",
   "metadata": {
    "execution": {
     "iopub.execute_input": "2022-01-20T16:44:36.910013Z",
     "iopub.status.busy": "2022-01-20T16:44:36.902961Z",
     "iopub.status.idle": "2022-01-20T16:44:36.913116Z",
     "shell.execute_reply": "2022-01-20T16:44:36.912422Z",
     "shell.execute_reply.started": "2022-01-20T16:41:47.263209Z"
    },
    "papermill": {
     "duration": 0.031946,
     "end_time": "2022-01-20T16:44:36.913271",
     "exception": false,
     "start_time": "2022-01-20T16:44:36.881325",
     "status": "completed"
    },
    "tags": []
   },
   "outputs": [],
   "source": [
    "iris['iris'] =iris['iris'].map({'Iris-versicolor':0, 'Iris-setosa':1,'Iris-virginica':2})\n"
   ]
  },
  {
   "cell_type": "code",
   "execution_count": 6,
   "id": "2c845551",
   "metadata": {
    "execution": {
     "iopub.execute_input": "2022-01-20T16:44:36.963452Z",
     "iopub.status.busy": "2022-01-20T16:44:36.962570Z",
     "iopub.status.idle": "2022-01-20T16:44:36.965594Z",
     "shell.execute_reply": "2022-01-20T16:44:36.966119Z",
     "shell.execute_reply.started": "2022-01-20T16:41:50.307987Z"
    },
    "papermill": {
     "duration": 0.033827,
     "end_time": "2022-01-20T16:44:36.966314",
     "exception": false,
     "start_time": "2022-01-20T16:44:36.932487",
     "status": "completed"
    },
    "tags": []
   },
   "outputs": [
    {
     "data": {
      "text/html": [
       "<div>\n",
       "<style scoped>\n",
       "    .dataframe tbody tr th:only-of-type {\n",
       "        vertical-align: middle;\n",
       "    }\n",
       "\n",
       "    .dataframe tbody tr th {\n",
       "        vertical-align: top;\n",
       "    }\n",
       "\n",
       "    .dataframe thead th {\n",
       "        text-align: right;\n",
       "    }\n",
       "</style>\n",
       "<table border=\"1\" class=\"dataframe\">\n",
       "  <thead>\n",
       "    <tr style=\"text-align: right;\">\n",
       "      <th></th>\n",
       "      <th>sepal_len</th>\n",
       "      <th>sepal_wdt</th>\n",
       "      <th>petal_len</th>\n",
       "      <th>petal_wdt</th>\n",
       "      <th>iris</th>\n",
       "    </tr>\n",
       "  </thead>\n",
       "  <tbody>\n",
       "    <tr>\n",
       "      <th>0</th>\n",
       "      <td>5.1</td>\n",
       "      <td>3.5</td>\n",
       "      <td>1.4</td>\n",
       "      <td>0.2</td>\n",
       "      <td>1</td>\n",
       "    </tr>\n",
       "    <tr>\n",
       "      <th>1</th>\n",
       "      <td>4.9</td>\n",
       "      <td>3.0</td>\n",
       "      <td>1.4</td>\n",
       "      <td>0.2</td>\n",
       "      <td>1</td>\n",
       "    </tr>\n",
       "    <tr>\n",
       "      <th>2</th>\n",
       "      <td>4.7</td>\n",
       "      <td>3.2</td>\n",
       "      <td>1.3</td>\n",
       "      <td>0.2</td>\n",
       "      <td>1</td>\n",
       "    </tr>\n",
       "    <tr>\n",
       "      <th>3</th>\n",
       "      <td>4.6</td>\n",
       "      <td>3.1</td>\n",
       "      <td>1.5</td>\n",
       "      <td>0.2</td>\n",
       "      <td>1</td>\n",
       "    </tr>\n",
       "    <tr>\n",
       "      <th>4</th>\n",
       "      <td>5.0</td>\n",
       "      <td>3.6</td>\n",
       "      <td>1.4</td>\n",
       "      <td>0.2</td>\n",
       "      <td>1</td>\n",
       "    </tr>\n",
       "  </tbody>\n",
       "</table>\n",
       "</div>"
      ],
      "text/plain": [
       "   sepal_len  sepal_wdt  petal_len  petal_wdt  iris\n",
       "0        5.1        3.5        1.4        0.2     1\n",
       "1        4.9        3.0        1.4        0.2     1\n",
       "2        4.7        3.2        1.3        0.2     1\n",
       "3        4.6        3.1        1.5        0.2     1\n",
       "4        5.0        3.6        1.4        0.2     1"
      ]
     },
     "execution_count": 6,
     "metadata": {},
     "output_type": "execute_result"
    }
   ],
   "source": [
    "iris.head()"
   ]
  },
  {
   "cell_type": "code",
   "execution_count": 7,
   "id": "517a623d",
   "metadata": {
    "execution": {
     "iopub.execute_input": "2022-01-20T16:44:37.007023Z",
     "iopub.status.busy": "2022-01-20T16:44:37.006031Z",
     "iopub.status.idle": "2022-01-20T16:44:37.020558Z",
     "shell.execute_reply": "2022-01-20T16:44:37.021222Z",
     "shell.execute_reply.started": "2022-01-20T16:41:54.081619Z"
    },
    "papermill": {
     "duration": 0.036943,
     "end_time": "2022-01-20T16:44:37.021416",
     "exception": false,
     "start_time": "2022-01-20T16:44:36.984473",
     "status": "completed"
    },
    "tags": []
   },
   "outputs": [
    {
     "name": "stdout",
     "output_type": "stream",
     "text": [
      "     sepal_len  sepal_wdt  petal_len  petal_wdt\n",
      "0          5.1        3.5        1.4        0.2\n",
      "1          4.9        3.0        1.4        0.2\n",
      "2          4.7        3.2        1.3        0.2\n",
      "3          4.6        3.1        1.5        0.2\n",
      "4          5.0        3.6        1.4        0.2\n",
      "..         ...        ...        ...        ...\n",
      "145        6.7        3.0        5.2        2.3\n",
      "146        6.3        2.5        5.0        1.9\n",
      "147        6.5        3.0        5.2        2.0\n",
      "148        6.2        3.4        5.4        2.3\n",
      "149        5.9        3.0        5.1        1.8\n",
      "\n",
      "[150 rows x 4 columns]\n",
      "0      1\n",
      "1      1\n",
      "2      1\n",
      "3      1\n",
      "4      1\n",
      "      ..\n",
      "145    2\n",
      "146    2\n",
      "147    2\n",
      "148    2\n",
      "149    2\n",
      "Name: iris, Length: 150, dtype: int64\n"
     ]
    }
   ],
   "source": [
    "x1=iris.iloc[:,0:4]\n",
    "y1=iris.iloc[:,4]\n",
    "print(x1)\n",
    "print(y1)"
   ]
  },
  {
   "cell_type": "code",
   "execution_count": 8,
   "id": "346ba106",
   "metadata": {
    "execution": {
     "iopub.execute_input": "2022-01-20T16:44:37.064133Z",
     "iopub.status.busy": "2022-01-20T16:44:37.063406Z",
     "iopub.status.idle": "2022-01-20T16:44:38.165150Z",
     "shell.execute_reply": "2022-01-20T16:44:38.164618Z",
     "shell.execute_reply.started": "2022-01-20T16:41:57.084351Z"
    },
    "papermill": {
     "duration": 1.124931,
     "end_time": "2022-01-20T16:44:38.165297",
     "exception": false,
     "start_time": "2022-01-20T16:44:37.040366",
     "status": "completed"
    },
    "tags": []
   },
   "outputs": [
    {
     "data": {
      "text/plain": [
       "GaussianNB()"
      ]
     },
     "execution_count": 8,
     "metadata": {},
     "output_type": "execute_result"
    }
   ],
   "source": [
    "#Import Gaussian Naive Bayes model\n",
    "from sklearn.naive_bayes import GaussianNB\n",
    "\n",
    "#Create a Gaussian Classifier\n",
    "model = GaussianNB()\n",
    "\n",
    "# Train the model using the training sets\n",
    "model.fit(x1,y1)"
   ]
  },
  {
   "cell_type": "code",
   "execution_count": 9,
   "id": "d7c03d2c",
   "metadata": {
    "execution": {
     "iopub.execute_input": "2022-01-20T16:44:38.209019Z",
     "iopub.status.busy": "2022-01-20T16:44:38.208334Z",
     "iopub.status.idle": "2022-01-20T16:44:38.212958Z",
     "shell.execute_reply": "2022-01-20T16:44:38.212412Z",
     "shell.execute_reply.started": "2022-01-20T16:42:01.071393Z"
    },
    "papermill": {
     "duration": 0.02919,
     "end_time": "2022-01-20T16:44:38.213111",
     "exception": false,
     "start_time": "2022-01-20T16:44:38.183921",
     "status": "completed"
    },
    "tags": []
   },
   "outputs": [
    {
     "name": "stdout",
     "output_type": "stream",
     "text": [
      "Predicted Value: [1]\n"
     ]
    }
   ],
   "source": [
    "#Predict Output\n",
    "predicted= model.predict([[5.1,3.5,1.4,0.2\t]]) \n",
    "print(\"Predicted Value:\", predicted)"
   ]
  },
  {
   "cell_type": "code",
   "execution_count": 10,
   "id": "bb1823d4",
   "metadata": {
    "execution": {
     "iopub.execute_input": "2022-01-20T16:44:38.256865Z",
     "iopub.status.busy": "2022-01-20T16:44:38.256221Z",
     "iopub.status.idle": "2022-01-20T16:44:38.312234Z",
     "shell.execute_reply": "2022-01-20T16:44:38.311611Z",
     "shell.execute_reply.started": "2022-01-20T16:42:14.516833Z"
    },
    "papermill": {
     "duration": 0.079882,
     "end_time": "2022-01-20T16:44:38.312392",
     "exception": false,
     "start_time": "2022-01-20T16:44:38.232510",
     "status": "completed"
    },
    "tags": []
   },
   "outputs": [],
   "source": [
    "# Load libraries\n",
    "import pandas as pd\n",
    "# Import Decision Tree Classifier\n",
    "from sklearn.model_selection import train_test_split # Import train_test_split function\n",
    "from sklearn import metrics #Import scikit-learn metrics module for accuracy calculation\n",
    "\n"
   ]
  },
  {
   "cell_type": "code",
   "execution_count": 11,
   "id": "b901ffbf",
   "metadata": {
    "execution": {
     "iopub.execute_input": "2022-01-20T16:44:38.361633Z",
     "iopub.status.busy": "2022-01-20T16:44:38.360595Z",
     "iopub.status.idle": "2022-01-20T16:44:38.363561Z",
     "shell.execute_reply": "2022-01-20T16:44:38.363004Z",
     "shell.execute_reply.started": "2022-01-20T16:42:26.035775Z"
    },
    "papermill": {
     "duration": 0.031266,
     "end_time": "2022-01-20T16:44:38.363704",
     "exception": false,
     "start_time": "2022-01-20T16:44:38.332438",
     "status": "completed"
    },
    "tags": []
   },
   "outputs": [],
   "source": [
    "x1_train,x1_test,y1_train,y1_test=train_test_split(x1,y1,test_size=0.25,random_state=0)\n"
   ]
  },
  {
   "cell_type": "code",
   "execution_count": 12,
   "id": "09184695",
   "metadata": {
    "execution": {
     "iopub.execute_input": "2022-01-20T16:44:38.406630Z",
     "iopub.status.busy": "2022-01-20T16:44:38.405910Z",
     "iopub.status.idle": "2022-01-20T16:44:38.527876Z",
     "shell.execute_reply": "2022-01-20T16:44:38.527344Z",
     "shell.execute_reply.started": "2022-01-20T16:42:39.543271Z"
    },
    "papermill": {
     "duration": 0.145295,
     "end_time": "2022-01-20T16:44:38.528031",
     "exception": false,
     "start_time": "2022-01-20T16:44:38.382736",
     "status": "completed"
    },
    "tags": []
   },
   "outputs": [
    {
     "data": {
      "text/plain": [
       "LogisticRegression()"
      ]
     },
     "execution_count": 12,
     "metadata": {},
     "output_type": "execute_result"
    }
   ],
   "source": [
    "# import the class\n",
    "from sklearn.linear_model import LogisticRegression\n",
    "\n",
    "# instantiate the model (using the default parameters)\n",
    "logreg=LogisticRegression()\n",
    "\n",
    "# fit the model with data\n",
    "logreg.fit(x1_train,y1_train)"
   ]
  },
  {
   "cell_type": "code",
   "execution_count": 13,
   "id": "b9e35389",
   "metadata": {
    "execution": {
     "iopub.execute_input": "2022-01-20T16:44:38.578534Z",
     "iopub.status.busy": "2022-01-20T16:44:38.577829Z",
     "iopub.status.idle": "2022-01-20T16:44:38.581150Z",
     "shell.execute_reply": "2022-01-20T16:44:38.580515Z",
     "shell.execute_reply.started": "2022-01-20T16:42:52.424671Z"
    },
    "papermill": {
     "duration": 0.03388,
     "end_time": "2022-01-20T16:44:38.581300",
     "exception": false,
     "start_time": "2022-01-20T16:44:38.547420",
     "status": "completed"
    },
    "tags": []
   },
   "outputs": [
    {
     "name": "stdout",
     "output_type": "stream",
     "text": [
      "[[2.37088169e-02 9.76291092e-01 9.10148067e-08]]\n",
      "Accuracy: 0.9736842105263158\n"
     ]
    }
   ],
   "source": [
    "#for printing the probability\n",
    "y1_pred=logreg.predict_proba([[5.1,3.5,1.4,0.2]])\n",
    "y1_pred\n",
    "print(y1_pred)\n",
    "\n",
    "y1_pred=logreg.predict(x1_test)\n",
    "\n",
    "\n",
    "\n",
    "\n",
    "cnf_matrix = metrics.confusion_matrix(y1_test, y1_pred)\n",
    "cnf_matrix\n",
    "\n",
    "print(\"Accuracy:\",metrics.accuracy_score(y1_test, y1_pred))\n",
    "\n",
    "\n"
   ]
  },
  {
   "cell_type": "code",
   "execution_count": 14,
   "id": "99e8ba21",
   "metadata": {
    "execution": {
     "iopub.execute_input": "2022-01-20T16:44:38.625947Z",
     "iopub.status.busy": "2022-01-20T16:44:38.625169Z",
     "iopub.status.idle": "2022-01-20T16:44:38.720530Z",
     "shell.execute_reply": "2022-01-20T16:44:38.721116Z",
     "shell.execute_reply.started": "2022-01-20T16:43:07.342159Z"
    },
    "papermill": {
     "duration": 0.120483,
     "end_time": "2022-01-20T16:44:38.721312",
     "exception": false,
     "start_time": "2022-01-20T16:44:38.600829",
     "status": "completed"
    },
    "tags": []
   },
   "outputs": [],
   "source": [
    "  # Load libraries\n",
    "  import pandas as pd\n",
    "  from sklearn.tree import DecisionTreeClassifier # Import Decision Tree Classifier\n",
    "  from sklearn.model_selection import train_test_split # Import train_test_split function\n",
    "  from sklearn import metrics #Import scikit-learn metrics module for accuracy calculation"
   ]
  },
  {
   "cell_type": "code",
   "execution_count": 15,
   "id": "c3a5cd18",
   "metadata": {
    "execution": {
     "iopub.execute_input": "2022-01-20T16:44:38.769069Z",
     "iopub.status.busy": "2022-01-20T16:44:38.768334Z",
     "iopub.status.idle": "2022-01-20T16:44:38.773195Z",
     "shell.execute_reply": "2022-01-20T16:44:38.773732Z",
     "shell.execute_reply.started": "2022-01-20T16:43:16.633906Z"
    },
    "papermill": {
     "duration": 0.032419,
     "end_time": "2022-01-20T16:44:38.773918",
     "exception": false,
     "start_time": "2022-01-20T16:44:38.741499",
     "status": "completed"
    },
    "tags": []
   },
   "outputs": [],
   "source": [
    "# Create Decision Tree classifer object\n",
    "clf = DecisionTreeClassifier()\n",
    "\n",
    "# Train Decision Tree Classifer\n",
    "clf = clf.fit(x1_train,y1_train)"
   ]
  },
  {
   "cell_type": "code",
   "execution_count": 16,
   "id": "83ddbcc0",
   "metadata": {
    "execution": {
     "iopub.execute_input": "2022-01-20T16:44:38.817227Z",
     "iopub.status.busy": "2022-01-20T16:44:38.816590Z",
     "iopub.status.idle": "2022-01-20T16:44:38.824246Z",
     "shell.execute_reply": "2022-01-20T16:44:38.823689Z",
     "shell.execute_reply.started": "2022-01-20T16:43:32.798015Z"
    },
    "papermill": {
     "duration": 0.029981,
     "end_time": "2022-01-20T16:44:38.824410",
     "exception": false,
     "start_time": "2022-01-20T16:44:38.794429",
     "status": "completed"
    },
    "tags": []
   },
   "outputs": [
    {
     "name": "stdout",
     "output_type": "stream",
     "text": [
      "[2 0 1 2 1 2 1 0 0 0 2 0 0 0 0 1 0 0 1 1 2 0 1 1 2 1 1 0 0 1 2 0 1 2 2 0 1\n",
      " 2]\n"
     ]
    }
   ],
   "source": [
    "#Predict the response for test dataset\n",
    "y1_pred = clf.predict(x1_test)\n",
    "print(y1_pred)\n"
   ]
  },
  {
   "cell_type": "code",
   "execution_count": 17,
   "id": "d9c7c231",
   "metadata": {
    "execution": {
     "iopub.execute_input": "2022-01-20T16:44:38.869413Z",
     "iopub.status.busy": "2022-01-20T16:44:38.868704Z",
     "iopub.status.idle": "2022-01-20T16:44:38.876976Z",
     "shell.execute_reply": "2022-01-20T16:44:38.877472Z",
     "shell.execute_reply.started": "2022-01-20T16:43:42.062800Z"
    },
    "papermill": {
     "duration": 0.031494,
     "end_time": "2022-01-20T16:44:38.877652",
     "exception": false,
     "start_time": "2022-01-20T16:44:38.846158",
     "status": "completed"
    },
    "tags": []
   },
   "outputs": [
    {
     "name": "stdout",
     "output_type": "stream",
     "text": [
      "[0 0 2 1 2 1 1 0 2 2 2 2 0 2 0 0 2 2 2 2 0 2 0 1 2 0 0 0 0 2 1 1 2 0 1 1 0\n",
      " 1 2 0 1 0 2 0 1 2 2 2 2 1 1 2 2 1 2 1 2 2 1 1 2 1 1 1 0 2 2 1 1 1 0 0 1 1\n",
      " 0 1 2 0 2 0 1 2 1 2 1 1 2 1 2 0 0 0 2 2 0 0 1 0 2 2 1 0 0 0 0 1 1 1 2 0 2\n",
      " 1]\n"
     ]
    }
   ],
   "source": [
    "#Predict the response for train dataset\n",
    "y1_pred_train = clf.predict(x1_train)\n",
    "print(y1_pred_train)"
   ]
  },
  {
   "cell_type": "code",
   "execution_count": 18,
   "id": "fea70fcf",
   "metadata": {
    "execution": {
     "iopub.execute_input": "2022-01-20T16:44:38.924192Z",
     "iopub.status.busy": "2022-01-20T16:44:38.923455Z",
     "iopub.status.idle": "2022-01-20T16:44:38.927399Z",
     "shell.execute_reply": "2022-01-20T16:44:38.927900Z",
     "shell.execute_reply.started": "2022-01-20T16:43:58.054819Z"
    },
    "papermill": {
     "duration": 0.029478,
     "end_time": "2022-01-20T16:44:38.928099",
     "exception": false,
     "start_time": "2022-01-20T16:44:38.898621",
     "status": "completed"
    },
    "tags": []
   },
   "outputs": [
    {
     "name": "stdout",
     "output_type": "stream",
     "text": [
      "Train Accuracy: 1.0\n"
     ]
    }
   ],
   "source": [
    "# Model Accuracy, how often is the classifier correct?\n",
    "print(\"Train Accuracy:\",metrics.accuracy_score(y1_train, y1_pred_train))"
   ]
  },
  {
   "cell_type": "code",
   "execution_count": 19,
   "id": "823e886b",
   "metadata": {
    "execution": {
     "iopub.execute_input": "2022-01-20T16:44:38.973492Z",
     "iopub.status.busy": "2022-01-20T16:44:38.972773Z",
     "iopub.status.idle": "2022-01-20T16:44:38.978780Z",
     "shell.execute_reply": "2022-01-20T16:44:38.979529Z",
     "shell.execute_reply.started": "2022-01-20T16:44:12.553618Z"
    },
    "papermill": {
     "duration": 0.030453,
     "end_time": "2022-01-20T16:44:38.979763",
     "exception": false,
     "start_time": "2022-01-20T16:44:38.949310",
     "status": "completed"
    },
    "tags": []
   },
   "outputs": [
    {
     "name": "stdout",
     "output_type": "stream",
     "text": [
      "Test Accuracy: 0.9736842105263158\n"
     ]
    }
   ],
   "source": [
    "# Model Accuracy, how often is the classifier correct?\n",
    "print(\"Test Accuracy:\",metrics.accuracy_score(y1_test, y1_pred))\n"
   ]
  },
  {
   "cell_type": "code",
   "execution_count": null,
   "id": "bc039184",
   "metadata": {
    "papermill": {
     "duration": 0.020821,
     "end_time": "2022-01-20T16:44:39.022182",
     "exception": false,
     "start_time": "2022-01-20T16:44:39.001361",
     "status": "completed"
    },
    "tags": []
   },
   "outputs": [],
   "source": []
  }
 ],
 "metadata": {
  "kernelspec": {
   "display_name": "Python 3",
   "language": "python",
   "name": "python3"
  },
  "language_info": {
   "codemirror_mode": {
    "name": "ipython",
    "version": 3
   },
   "file_extension": ".py",
   "mimetype": "text/x-python",
   "name": "python",
   "nbconvert_exporter": "python",
   "pygments_lexer": "ipython3",
   "version": "3.7.12"
  },
  "papermill": {
   "default_parameters": {},
   "duration": 13.74334,
   "end_time": "2022-01-20T16:44:39.754623",
   "environment_variables": {},
   "exception": null,
   "input_path": "__notebook__.ipynb",
   "output_path": "__notebook__.ipynb",
   "parameters": {},
   "start_time": "2022-01-20T16:44:26.011283",
   "version": "2.3.3"
  }
 },
 "nbformat": 4,
 "nbformat_minor": 5
}
